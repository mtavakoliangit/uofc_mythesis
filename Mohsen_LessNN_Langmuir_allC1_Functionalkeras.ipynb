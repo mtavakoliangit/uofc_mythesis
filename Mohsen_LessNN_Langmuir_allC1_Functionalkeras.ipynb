{
  "cells": [
    {
      "cell_type": "markdown",
      "metadata": {
        "id": "view-in-github",
        "colab_type": "text"
      },
      "source": [
        "<a href=\"https://colab.research.google.com/github/mtavakoliangit/uofc_mythesis/blob/main/Mohsen_LessNN_Langmuir_allC1_Functionalkeras.ipynb\" target=\"_parent\"><img src=\"https://colab.research.google.com/assets/colab-badge.svg\" alt=\"Open In Colab\"/></a>"
      ]
    },
    {
      "cell_type": "code",
      "execution_count": null,
      "metadata": {
        "id": "cqf0Jjn6fBHw"
      },
      "outputs": [],
      "source": [
        "import numpy as np\n",
        "from tensorflow.keras.models import Model\n",
        "from tensorflow.keras.layers import Input,Dense\n",
        "from keras.layers import Dense, Activation, Dropout\n",
        "import matplotlib.pyplot as plt\n",
        "import os\n",
        "import seaborn as sns\n",
        "from sklearn.model_selection import train_test_split"
      ]
    },
    {
      "cell_type": "code",
      "execution_count": null,
      "metadata": {
        "id": "XpC1TPYU14HZ"
      },
      "outputs": [],
      "source": [
        "from keras.callbacks import History\n",
        "from sklearn.metrics import mean_squared_error, mean_absolute_error\n",
        "from sklearn.preprocessing import StandardScaler\n",
        "from sklearn.preprocessing import MinMaxScaler\n",
        "from tensorflow import keras\n",
        "import tensorflow as tf"
      ]
    },
    {
      "cell_type": "code",
      "execution_count": null,
      "metadata": {
        "id": "WFZDep12jfMs"
      },
      "outputs": [],
      "source": [
        "import pickle\n",
        "from scipy.optimize import curve_fit\n",
        "import warnings\n",
        "warnings.filterwarnings('ignore')\n",
        "from IPython.display import clear_output\n",
        "from sklearn.linear_model import LinearRegression"
      ]
    },
    {
      "cell_type": "code",
      "execution_count": null,
      "metadata": {
        "id": "hHbMVdRm2nZE"
      },
      "outputs": [],
      "source": [
        "import matplotlib as mpl\n",
        "mpl.rcParams['figure.dpi']= 100"
      ]
    },
    {
      "cell_type": "code",
      "execution_count": null,
      "metadata": {
        "colab": {
          "base_uri": "https://localhost:8080/"
        },
        "id": "ZjMPivyavB85",
        "outputId": "1b518fa7-a64e-49a6-a523-4ed3d129fdb2"
      },
      "outputs": [
        {
          "output_type": "stream",
          "name": "stdout",
          "text": [
            "Drive already mounted at /content/gdrive; to attempt to forcibly remount, call drive.mount(\"/content/gdrive\", force_remount=True).\n"
          ]
        }
      ],
      "source": [
        "from google.colab import drive \n",
        "drive.mount('/content/gdrive')"
      ]
    },
    {
      "cell_type": "code",
      "execution_count": null,
      "metadata": {
        "id": "_-TKXYDk_x-h"
      },
      "outputs": [],
      "source": [
        "import pandas as pd \n",
        "data_df=pd.read_csv('gdrive/My Drive/CO2_Database/groupedC1_minusConstP.csv')"
      ]
    },
    {
      "cell_type": "code",
      "execution_count": null,
      "metadata": {
        "colab": {
          "base_uri": "https://localhost:8080/"
        },
        "id": "83OIt7XaWlva",
        "outputId": "21ef4da4-bed4-442c-a81a-0bfe389c1346"
      },
      "outputs": [
        {
          "output_type": "stream",
          "name": "stdout",
          "text": [
            "<class 'pandas.core.frame.DataFrame'>\n",
            "RangeIndex: 1660 entries, 0 to 1659\n",
            "Data columns (total 7 columns):\n",
            " #   Column                       Non-Null Count  Dtype  \n",
            "---  ------                       --------------  -----  \n",
            " 0   Gas                          1660 non-null   object \n",
            " 1   Rock                         1660 non-null   object \n",
            " 2   TOC (%)                      1660 non-null   float64\n",
            " 3   Moisture (%)                 1660 non-null   float64\n",
            " 4   Temp (C)                     1660 non-null   float64\n",
            " 5   Pres. (MPa)                  1660 non-null   float64\n",
            " 6   C1 Excess Sorption (cm3/gr)  1660 non-null   float64\n",
            "dtypes: float64(5), object(2)\n",
            "memory usage: 90.9+ KB\n"
          ]
        }
      ],
      "source": [
        "data_df.info()"
      ]
    },
    {
      "cell_type": "code",
      "execution_count": null,
      "metadata": {
        "colab": {
          "base_uri": "https://localhost:8080/",
          "height": 300
        },
        "id": "V3Ybx1NTWmry",
        "outputId": "0f6fa918-845d-4d6a-a02b-01c80a61da86"
      },
      "outputs": [
        {
          "output_type": "execute_result",
          "data": {
            "text/plain": [
              "           TOC (%)  Moisture (%)     Temp (C)  Pres. (MPa)  \\\n",
              "count  1660.000000   1660.000000  1660.000000  1660.000000   \n",
              "mean     15.614216      1.095048    56.227952     9.666066   \n",
              "std      25.891040      1.894672    16.061273     7.082669   \n",
              "min       0.090000      0.000000    30.000000     0.164000   \n",
              "25%       2.364292      0.000000    38.000000     3.387500   \n",
              "50%       5.150000      0.000000    61.000000     8.434250   \n",
              "75%       7.700000      1.720000    65.000000    15.124625   \n",
              "max      88.500000      7.340000   150.000000    27.861700   \n",
              "\n",
              "       C1 Excess Sorption (cm3/gr)  \n",
              "count                  1660.000000  \n",
              "mean                      1.494573  \n",
              "std                       1.379073  \n",
              "min                       0.001600  \n",
              "25%                       0.502225  \n",
              "50%                       1.148400  \n",
              "75%                       2.052875  \n",
              "max                       7.036200  "
            ],
            "text/html": [
              "\n",
              "  <div id=\"df-9047a755-f9e8-44aa-88fe-f0eaf20beb2c\">\n",
              "    <div class=\"colab-df-container\">\n",
              "      <div>\n",
              "<style scoped>\n",
              "    .dataframe tbody tr th:only-of-type {\n",
              "        vertical-align: middle;\n",
              "    }\n",
              "\n",
              "    .dataframe tbody tr th {\n",
              "        vertical-align: top;\n",
              "    }\n",
              "\n",
              "    .dataframe thead th {\n",
              "        text-align: right;\n",
              "    }\n",
              "</style>\n",
              "<table border=\"1\" class=\"dataframe\">\n",
              "  <thead>\n",
              "    <tr style=\"text-align: right;\">\n",
              "      <th></th>\n",
              "      <th>TOC (%)</th>\n",
              "      <th>Moisture (%)</th>\n",
              "      <th>Temp (C)</th>\n",
              "      <th>Pres. (MPa)</th>\n",
              "      <th>C1 Excess Sorption (cm3/gr)</th>\n",
              "    </tr>\n",
              "  </thead>\n",
              "  <tbody>\n",
              "    <tr>\n",
              "      <th>count</th>\n",
              "      <td>1660.000000</td>\n",
              "      <td>1660.000000</td>\n",
              "      <td>1660.000000</td>\n",
              "      <td>1660.000000</td>\n",
              "      <td>1660.000000</td>\n",
              "    </tr>\n",
              "    <tr>\n",
              "      <th>mean</th>\n",
              "      <td>15.614216</td>\n",
              "      <td>1.095048</td>\n",
              "      <td>56.227952</td>\n",
              "      <td>9.666066</td>\n",
              "      <td>1.494573</td>\n",
              "    </tr>\n",
              "    <tr>\n",
              "      <th>std</th>\n",
              "      <td>25.891040</td>\n",
              "      <td>1.894672</td>\n",
              "      <td>16.061273</td>\n",
              "      <td>7.082669</td>\n",
              "      <td>1.379073</td>\n",
              "    </tr>\n",
              "    <tr>\n",
              "      <th>min</th>\n",
              "      <td>0.090000</td>\n",
              "      <td>0.000000</td>\n",
              "      <td>30.000000</td>\n",
              "      <td>0.164000</td>\n",
              "      <td>0.001600</td>\n",
              "    </tr>\n",
              "    <tr>\n",
              "      <th>25%</th>\n",
              "      <td>2.364292</td>\n",
              "      <td>0.000000</td>\n",
              "      <td>38.000000</td>\n",
              "      <td>3.387500</td>\n",
              "      <td>0.502225</td>\n",
              "    </tr>\n",
              "    <tr>\n",
              "      <th>50%</th>\n",
              "      <td>5.150000</td>\n",
              "      <td>0.000000</td>\n",
              "      <td>61.000000</td>\n",
              "      <td>8.434250</td>\n",
              "      <td>1.148400</td>\n",
              "    </tr>\n",
              "    <tr>\n",
              "      <th>75%</th>\n",
              "      <td>7.700000</td>\n",
              "      <td>1.720000</td>\n",
              "      <td>65.000000</td>\n",
              "      <td>15.124625</td>\n",
              "      <td>2.052875</td>\n",
              "    </tr>\n",
              "    <tr>\n",
              "      <th>max</th>\n",
              "      <td>88.500000</td>\n",
              "      <td>7.340000</td>\n",
              "      <td>150.000000</td>\n",
              "      <td>27.861700</td>\n",
              "      <td>7.036200</td>\n",
              "    </tr>\n",
              "  </tbody>\n",
              "</table>\n",
              "</div>\n",
              "      <button class=\"colab-df-convert\" onclick=\"convertToInteractive('df-9047a755-f9e8-44aa-88fe-f0eaf20beb2c')\"\n",
              "              title=\"Convert this dataframe to an interactive table.\"\n",
              "              style=\"display:none;\">\n",
              "        \n",
              "  <svg xmlns=\"http://www.w3.org/2000/svg\" height=\"24px\"viewBox=\"0 0 24 24\"\n",
              "       width=\"24px\">\n",
              "    <path d=\"M0 0h24v24H0V0z\" fill=\"none\"/>\n",
              "    <path d=\"M18.56 5.44l.94 2.06.94-2.06 2.06-.94-2.06-.94-.94-2.06-.94 2.06-2.06.94zm-11 1L8.5 8.5l.94-2.06 2.06-.94-2.06-.94L8.5 2.5l-.94 2.06-2.06.94zm10 10l.94 2.06.94-2.06 2.06-.94-2.06-.94-.94-2.06-.94 2.06-2.06.94z\"/><path d=\"M17.41 7.96l-1.37-1.37c-.4-.4-.92-.59-1.43-.59-.52 0-1.04.2-1.43.59L10.3 9.45l-7.72 7.72c-.78.78-.78 2.05 0 2.83L4 21.41c.39.39.9.59 1.41.59.51 0 1.02-.2 1.41-.59l7.78-7.78 2.81-2.81c.8-.78.8-2.07 0-2.86zM5.41 20L4 18.59l7.72-7.72 1.47 1.35L5.41 20z\"/>\n",
              "  </svg>\n",
              "      </button>\n",
              "      \n",
              "  <style>\n",
              "    .colab-df-container {\n",
              "      display:flex;\n",
              "      flex-wrap:wrap;\n",
              "      gap: 12px;\n",
              "    }\n",
              "\n",
              "    .colab-df-convert {\n",
              "      background-color: #E8F0FE;\n",
              "      border: none;\n",
              "      border-radius: 50%;\n",
              "      cursor: pointer;\n",
              "      display: none;\n",
              "      fill: #1967D2;\n",
              "      height: 32px;\n",
              "      padding: 0 0 0 0;\n",
              "      width: 32px;\n",
              "    }\n",
              "\n",
              "    .colab-df-convert:hover {\n",
              "      background-color: #E2EBFA;\n",
              "      box-shadow: 0px 1px 2px rgba(60, 64, 67, 0.3), 0px 1px 3px 1px rgba(60, 64, 67, 0.15);\n",
              "      fill: #174EA6;\n",
              "    }\n",
              "\n",
              "    [theme=dark] .colab-df-convert {\n",
              "      background-color: #3B4455;\n",
              "      fill: #D2E3FC;\n",
              "    }\n",
              "\n",
              "    [theme=dark] .colab-df-convert:hover {\n",
              "      background-color: #434B5C;\n",
              "      box-shadow: 0px 1px 3px 1px rgba(0, 0, 0, 0.15);\n",
              "      filter: drop-shadow(0px 1px 2px rgba(0, 0, 0, 0.3));\n",
              "      fill: #FFFFFF;\n",
              "    }\n",
              "  </style>\n",
              "\n",
              "      <script>\n",
              "        const buttonEl =\n",
              "          document.querySelector('#df-9047a755-f9e8-44aa-88fe-f0eaf20beb2c button.colab-df-convert');\n",
              "        buttonEl.style.display =\n",
              "          google.colab.kernel.accessAllowed ? 'block' : 'none';\n",
              "\n",
              "        async function convertToInteractive(key) {\n",
              "          const element = document.querySelector('#df-9047a755-f9e8-44aa-88fe-f0eaf20beb2c');\n",
              "          const dataTable =\n",
              "            await google.colab.kernel.invokeFunction('convertToInteractive',\n",
              "                                                     [key], {});\n",
              "          if (!dataTable) return;\n",
              "\n",
              "          const docLinkHtml = 'Like what you see? Visit the ' +\n",
              "            '<a target=\"_blank\" href=https://colab.research.google.com/notebooks/data_table.ipynb>data table notebook</a>'\n",
              "            + ' to learn more about interactive tables.';\n",
              "          element.innerHTML = '';\n",
              "          dataTable['output_type'] = 'display_data';\n",
              "          await google.colab.output.renderOutput(dataTable, element);\n",
              "          const docLink = document.createElement('div');\n",
              "          docLink.innerHTML = docLinkHtml;\n",
              "          element.appendChild(docLink);\n",
              "        }\n",
              "      </script>\n",
              "    </div>\n",
              "  </div>\n",
              "  "
            ]
          },
          "metadata": {},
          "execution_count": 8
        }
      ],
      "source": [
        "data_df.describe()"
      ]
    },
    {
      "cell_type": "code",
      "execution_count": null,
      "metadata": {
        "id": "IaAS4xpYLrp2"
      },
      "outputs": [],
      "source": [
        "# Function to insert row in the dataframe\n",
        "def Insert_row(row_number, df, row_value):\n",
        "\t# Starting value of upper half\n",
        "\tstart_upper = 0\n",
        "\n",
        "\t# End value of upper half\n",
        "\tend_upper = row_number\n",
        "\n",
        "\t# Start value of lower half\n",
        "\tstart_lower = row_number\n",
        "\n",
        "\t# End value of lower half\n",
        "\tend_lower = df.shape[0]\n",
        "\n",
        "\t# Create a list of upper_half index\n",
        "\tupper_half = [*range(start_upper, end_upper, 1)]\n",
        "\n",
        "\t# Create a list of lower_half index\n",
        "\tlower_half = [*range(start_lower, end_lower, 1)]\n",
        "\n",
        "\t# Increment the value of lower half by 1\n",
        "\tlower_half = [x.__add__(1) for x in lower_half]\n",
        "\n",
        "\t# Combine the two lists\n",
        "\tindex_ = upper_half + lower_half\n",
        "\n",
        "\t# Update the index of the dataframe\n",
        "\tdf.index = index_\n",
        "\n",
        "\t# Insert a row at the end\n",
        "\tdf.loc[row_number] = row_value\n",
        "\n",
        "\t# Sort the index labels\n",
        "\tdf = df.sort_index()\n",
        "\n",
        "\t# return the dataframe\n",
        "\treturn df"
      ]
    },
    {
      "cell_type": "code",
      "execution_count": null,
      "metadata": {
        "id": "rpeXnAaU91bp"
      },
      "outputs": [],
      "source": [
        "# Define the Langmuir equation\n",
        "def Langmuir(P, VL, pL):\n",
        "    V_ads = VL * P / (P + pL)\n",
        "    return V_ads"
      ]
    },
    {
      "cell_type": "markdown",
      "metadata": {
        "id": "8hy5MQHcLzUC"
      },
      "source": [
        "#### Adding P=0, sorption=0 to the datasets, counting the number of datasets (experiments):"
      ]
    },
    {
      "cell_type": "code",
      "execution_count": null,
      "metadata": {
        "id": "7TyM453zopxz"
      },
      "outputs": [],
      "source": [
        "i = 0\n",
        "row_value = [data_df['Gas'][i], data_df['Rock'][i], data_df['TOC (%)'][i], data_df['Moisture (%)'][i], data_df['Temp (C)'][i], 0, 0]\n",
        "data_df = Insert_row(i, data_df, row_value)"
      ]
    },
    {
      "cell_type": "code",
      "execution_count": null,
      "metadata": {
        "id": "I8_D_01YpIUj"
      },
      "outputs": [],
      "source": [
        "P = []\n",
        "sorp = []\n",
        "polyfit_df = pd.DataFrame(columns=['Gas', 'Rock', 'TOC (%)', 'Moisture (%)', 'Temp (C)', 'VL', 'pL'])"
      ]
    },
    {
      "cell_type": "code",
      "execution_count": null,
      "metadata": {
        "id": "ESnEPmBCpUey"
      },
      "outputs": [],
      "source": [
        "while i < data_df.shape[0] - 1:\n",
        "    i += 1\n",
        "    if data_df['Pres. (MPa)'][i] > data_df['Pres. (MPa)'][i-1]:\n",
        "        P.append(data_df['Pres. (MPa)'][i-1])\n",
        "        sorp.append(data_df['C1 Excess Sorption (cm3/gr)'][i-1])\n",
        "    else:\n",
        "        P.append(data_df['Pres. (MPa)'][i-1])\n",
        "        sorp.append(data_df['C1 Excess Sorption (cm3/gr)'][i-1])\n",
        "        row_value = [data_df['Gas'][i], data_df['Rock'][i], data_df['TOC (%)'][i], data_df['Moisture (%)'][i], data_df['Temp (C)'][i], 0, 0]\n",
        "        data_df = Insert_row(i, data_df, row_value)\n",
        "        #calculating Langmuir equation parameters\n",
        "        parameters, covariance = curve_fit(Langmuir, P, sorp)\n",
        "        VL = parameters[0]\n",
        "        pL = parameters[1]\n",
        "        polyfit_df = polyfit_df.append({'Gas': data_df['Gas'][i], 'Rock': data_df['Rock'][i], 'TOC (%)': data_df['TOC (%)'][i], 'Moisture (%)': data_df['Moisture (%)'][i],\n",
        "                                        'Temp (C)': data_df['Temp (C)'][i], 'VL': VL, 'pL': pL},ignore_index=True)\n",
        "        P = []\n",
        "        sorp = []\n",
        "\n",
        "#last experimental data set:\n",
        "P.append(data_df['Pres. (MPa)'][data_df.shape[0]-1])\n",
        "sorp.append(data_df['C1 Excess Sorption (cm3/gr)'][data_df.shape[0]-1])\n",
        "parameters, covariance = curve_fit(Langmuir, P, sorp)\n",
        "VL = parameters[0]\n",
        "pL = parameters[1]\n",
        "polyfit_df = polyfit_df.append({'Gas': data_df['Gas'][i], 'Rock': data_df['Rock'][i], 'TOC (%)': data_df['TOC (%)'][i], 'Moisture (%)': data_df['Moisture (%)'][i],\n",
        "                                'Temp (C)': data_df['Temp (C)'][i], 'VL': VL, 'pL': pL},ignore_index=True)"
      ]
    },
    {
      "cell_type": "code",
      "execution_count": null,
      "metadata": {
        "id": "6gFn0QnQAYNE"
      },
      "outputs": [],
      "source": [
        "num_exp = polyfit_df.shape[0] #number of experimental datasets"
      ]
    },
    {
      "cell_type": "code",
      "execution_count": null,
      "metadata": {
        "colab": {
          "base_uri": "https://localhost:8080/"
        },
        "id": "CoMdbMnTTxft",
        "outputId": "e597f965-bf7c-4ce1-d935-1d6a8867b8a1"
      },
      "outputs": [
        {
          "output_type": "stream",
          "name": "stdout",
          "text": [
            "<class 'pandas.core.frame.DataFrame'>\n",
            "RangeIndex: 121 entries, 0 to 120\n",
            "Data columns (total 7 columns):\n",
            " #   Column        Non-Null Count  Dtype  \n",
            "---  ------        --------------  -----  \n",
            " 0   Gas           121 non-null    object \n",
            " 1   Rock          121 non-null    object \n",
            " 2   TOC (%)       121 non-null    float64\n",
            " 3   Moisture (%)  121 non-null    float64\n",
            " 4   Temp (C)      121 non-null    float64\n",
            " 5   VL            121 non-null    float64\n",
            " 6   pL            121 non-null    float64\n",
            "dtypes: float64(5), object(2)\n",
            "memory usage: 6.7+ KB\n"
          ]
        }
      ],
      "source": [
        "polyfit_df.info()"
      ]
    },
    {
      "cell_type": "code",
      "execution_count": null,
      "metadata": {
        "colab": {
          "base_uri": "https://localhost:8080/",
          "height": 206
        },
        "id": "4t_tyxARUK1n",
        "outputId": "02b1cdac-f579-4ee7-f466-1cebbf29d170"
      },
      "outputs": [
        {
          "output_type": "execute_result",
          "data": {
            "text/plain": [
              "   Gas        Rock  TOC (%)  Moisture (%)  Temp (C)        VL         pL\n",
              "0  CH4  Shale/Clay     0.44          0.66      50.0  0.953745   8.952624\n",
              "1  CH4  Shale/Clay     0.09          1.51      38.0  0.296337   7.840025\n",
              "2  CH4  Shale/Clay     3.25          1.47      38.0  0.896418  15.344013\n",
              "3  CH4  Shale/Clay     0.38          1.87      38.0  1.174007  16.522328\n",
              "4  CH4  Shale/Clay     0.75          0.59      38.0  0.998552  29.268973"
            ],
            "text/html": [
              "\n",
              "  <div id=\"df-6011cd3f-3307-41f9-9a69-10637c3d3994\">\n",
              "    <div class=\"colab-df-container\">\n",
              "      <div>\n",
              "<style scoped>\n",
              "    .dataframe tbody tr th:only-of-type {\n",
              "        vertical-align: middle;\n",
              "    }\n",
              "\n",
              "    .dataframe tbody tr th {\n",
              "        vertical-align: top;\n",
              "    }\n",
              "\n",
              "    .dataframe thead th {\n",
              "        text-align: right;\n",
              "    }\n",
              "</style>\n",
              "<table border=\"1\" class=\"dataframe\">\n",
              "  <thead>\n",
              "    <tr style=\"text-align: right;\">\n",
              "      <th></th>\n",
              "      <th>Gas</th>\n",
              "      <th>Rock</th>\n",
              "      <th>TOC (%)</th>\n",
              "      <th>Moisture (%)</th>\n",
              "      <th>Temp (C)</th>\n",
              "      <th>VL</th>\n",
              "      <th>pL</th>\n",
              "    </tr>\n",
              "  </thead>\n",
              "  <tbody>\n",
              "    <tr>\n",
              "      <th>0</th>\n",
              "      <td>CH4</td>\n",
              "      <td>Shale/Clay</td>\n",
              "      <td>0.44</td>\n",
              "      <td>0.66</td>\n",
              "      <td>50.0</td>\n",
              "      <td>0.953745</td>\n",
              "      <td>8.952624</td>\n",
              "    </tr>\n",
              "    <tr>\n",
              "      <th>1</th>\n",
              "      <td>CH4</td>\n",
              "      <td>Shale/Clay</td>\n",
              "      <td>0.09</td>\n",
              "      <td>1.51</td>\n",
              "      <td>38.0</td>\n",
              "      <td>0.296337</td>\n",
              "      <td>7.840025</td>\n",
              "    </tr>\n",
              "    <tr>\n",
              "      <th>2</th>\n",
              "      <td>CH4</td>\n",
              "      <td>Shale/Clay</td>\n",
              "      <td>3.25</td>\n",
              "      <td>1.47</td>\n",
              "      <td>38.0</td>\n",
              "      <td>0.896418</td>\n",
              "      <td>15.344013</td>\n",
              "    </tr>\n",
              "    <tr>\n",
              "      <th>3</th>\n",
              "      <td>CH4</td>\n",
              "      <td>Shale/Clay</td>\n",
              "      <td>0.38</td>\n",
              "      <td>1.87</td>\n",
              "      <td>38.0</td>\n",
              "      <td>1.174007</td>\n",
              "      <td>16.522328</td>\n",
              "    </tr>\n",
              "    <tr>\n",
              "      <th>4</th>\n",
              "      <td>CH4</td>\n",
              "      <td>Shale/Clay</td>\n",
              "      <td>0.75</td>\n",
              "      <td>0.59</td>\n",
              "      <td>38.0</td>\n",
              "      <td>0.998552</td>\n",
              "      <td>29.268973</td>\n",
              "    </tr>\n",
              "  </tbody>\n",
              "</table>\n",
              "</div>\n",
              "      <button class=\"colab-df-convert\" onclick=\"convertToInteractive('df-6011cd3f-3307-41f9-9a69-10637c3d3994')\"\n",
              "              title=\"Convert this dataframe to an interactive table.\"\n",
              "              style=\"display:none;\">\n",
              "        \n",
              "  <svg xmlns=\"http://www.w3.org/2000/svg\" height=\"24px\"viewBox=\"0 0 24 24\"\n",
              "       width=\"24px\">\n",
              "    <path d=\"M0 0h24v24H0V0z\" fill=\"none\"/>\n",
              "    <path d=\"M18.56 5.44l.94 2.06.94-2.06 2.06-.94-2.06-.94-.94-2.06-.94 2.06-2.06.94zm-11 1L8.5 8.5l.94-2.06 2.06-.94-2.06-.94L8.5 2.5l-.94 2.06-2.06.94zm10 10l.94 2.06.94-2.06 2.06-.94-2.06-.94-.94-2.06-.94 2.06-2.06.94z\"/><path d=\"M17.41 7.96l-1.37-1.37c-.4-.4-.92-.59-1.43-.59-.52 0-1.04.2-1.43.59L10.3 9.45l-7.72 7.72c-.78.78-.78 2.05 0 2.83L4 21.41c.39.39.9.59 1.41.59.51 0 1.02-.2 1.41-.59l7.78-7.78 2.81-2.81c.8-.78.8-2.07 0-2.86zM5.41 20L4 18.59l7.72-7.72 1.47 1.35L5.41 20z\"/>\n",
              "  </svg>\n",
              "      </button>\n",
              "      \n",
              "  <style>\n",
              "    .colab-df-container {\n",
              "      display:flex;\n",
              "      flex-wrap:wrap;\n",
              "      gap: 12px;\n",
              "    }\n",
              "\n",
              "    .colab-df-convert {\n",
              "      background-color: #E8F0FE;\n",
              "      border: none;\n",
              "      border-radius: 50%;\n",
              "      cursor: pointer;\n",
              "      display: none;\n",
              "      fill: #1967D2;\n",
              "      height: 32px;\n",
              "      padding: 0 0 0 0;\n",
              "      width: 32px;\n",
              "    }\n",
              "\n",
              "    .colab-df-convert:hover {\n",
              "      background-color: #E2EBFA;\n",
              "      box-shadow: 0px 1px 2px rgba(60, 64, 67, 0.3), 0px 1px 3px 1px rgba(60, 64, 67, 0.15);\n",
              "      fill: #174EA6;\n",
              "    }\n",
              "\n",
              "    [theme=dark] .colab-df-convert {\n",
              "      background-color: #3B4455;\n",
              "      fill: #D2E3FC;\n",
              "    }\n",
              "\n",
              "    [theme=dark] .colab-df-convert:hover {\n",
              "      background-color: #434B5C;\n",
              "      box-shadow: 0px 1px 3px 1px rgba(0, 0, 0, 0.15);\n",
              "      filter: drop-shadow(0px 1px 2px rgba(0, 0, 0, 0.3));\n",
              "      fill: #FFFFFF;\n",
              "    }\n",
              "  </style>\n",
              "\n",
              "      <script>\n",
              "        const buttonEl =\n",
              "          document.querySelector('#df-6011cd3f-3307-41f9-9a69-10637c3d3994 button.colab-df-convert');\n",
              "        buttonEl.style.display =\n",
              "          google.colab.kernel.accessAllowed ? 'block' : 'none';\n",
              "\n",
              "        async function convertToInteractive(key) {\n",
              "          const element = document.querySelector('#df-6011cd3f-3307-41f9-9a69-10637c3d3994');\n",
              "          const dataTable =\n",
              "            await google.colab.kernel.invokeFunction('convertToInteractive',\n",
              "                                                     [key], {});\n",
              "          if (!dataTable) return;\n",
              "\n",
              "          const docLinkHtml = 'Like what you see? Visit the ' +\n",
              "            '<a target=\"_blank\" href=https://colab.research.google.com/notebooks/data_table.ipynb>data table notebook</a>'\n",
              "            + ' to learn more about interactive tables.';\n",
              "          element.innerHTML = '';\n",
              "          dataTable['output_type'] = 'display_data';\n",
              "          await google.colab.output.renderOutput(dataTable, element);\n",
              "          const docLink = document.createElement('div');\n",
              "          docLink.innerHTML = docLinkHtml;\n",
              "          element.appendChild(docLink);\n",
              "        }\n",
              "      </script>\n",
              "    </div>\n",
              "  </div>\n",
              "  "
            ]
          },
          "metadata": {},
          "execution_count": 16
        }
      ],
      "source": [
        "polyfit_df.head()"
      ]
    },
    {
      "cell_type": "markdown",
      "source": [
        "## Having looked at the calculated VL and pL, I realised that 3 of them are huge numbers. The rest are below 10. So, I am going to delete those rows."
      ],
      "metadata": {
        "id": "ET9BABVncq1Q"
      }
    },
    {
      "cell_type": "code",
      "source": [
        "max(polyfit_df['VL'])"
      ],
      "metadata": {
        "colab": {
          "base_uri": "https://localhost:8080/"
        },
        "id": "vsSAXRmxdCLQ",
        "outputId": "80f15d7c-72c3-47c8-827d-d74cd661f996"
      },
      "execution_count": null,
      "outputs": [
        {
          "output_type": "execute_result",
          "data": {
            "text/plain": [
              "42053877.18008987"
            ]
          },
          "metadata": {},
          "execution_count": 17
        }
      ]
    },
    {
      "cell_type": "code",
      "execution_count": null,
      "metadata": {
        "id": "6wi_AX9af-4e"
      },
      "outputs": [],
      "source": [
        "polyfit_df_filtered = polyfit_df[polyfit_df['VL'] <= 10]\n",
        "df = polyfit_df_filtered"
      ]
    },
    {
      "cell_type": "code",
      "source": [
        "max(df['VL'])"
      ],
      "metadata": {
        "colab": {
          "base_uri": "https://localhost:8080/"
        },
        "id": "ntonKAiBdkF4",
        "outputId": "8c307cb4-c452-4ce5-f664-3006faee901a"
      },
      "execution_count": null,
      "outputs": [
        {
          "output_type": "execute_result",
          "data": {
            "text/plain": [
              "8.889353108394078"
            ]
          },
          "metadata": {},
          "execution_count": 19
        }
      ]
    },
    {
      "cell_type": "code",
      "source": [
        "df.to_csv(r'gdrive/My Drive/CO2_Database/groupedC1_Langmuir.csv')"
      ],
      "metadata": {
        "id": "uQHJ0xz0Ti3F"
      },
      "execution_count": null,
      "outputs": []
    },
    {
      "cell_type": "code",
      "execution_count": null,
      "metadata": {
        "id": "8rEl6sTJtxxd"
      },
      "outputs": [],
      "source": [
        "cols = ['TOC (%)', 'Moisture (%)', 'Temp (C)', 'VL', 'pL']\n",
        "for col in cols:\n",
        "  scale = StandardScaler().fit(df[[col]])\n",
        "  df[[col]] = scale.transform(df[[col]])\n",
        "  norm = MinMaxScaler().fit(df[[col]])\n",
        "  df[[col]] = norm.transform(df[[col]])"
      ]
    },
    {
      "cell_type": "code",
      "execution_count": null,
      "metadata": {
        "colab": {
          "base_uri": "https://localhost:8080/",
          "height": 300
        },
        "id": "2DtmZ-fd1TK-",
        "outputId": "792fc26d-973e-406c-862b-4e4d45128c43"
      },
      "outputs": [
        {
          "output_type": "execute_result",
          "data": {
            "text/plain": [
              "          TOC (%)  Moisture (%)    Temp (C)          VL          pL\n",
              "count  118.000000    118.000000  118.000000  118.000000  118.000000\n",
              "mean     0.170755      0.184997    0.215749    0.278185    0.190223\n",
              "std      0.293617      0.260473    0.142229    0.236235    0.148785\n",
              "min      0.000000      0.000000    0.000000    0.000000    0.000000\n",
              "25%      0.025724      0.000000    0.066667    0.086416    0.105412\n",
              "50%      0.055862      0.000000    0.258333    0.218824    0.146388\n",
              "75%      0.084662      0.408719    0.291667    0.382623    0.237732\n",
              "max      1.000000      1.000000    1.000000    1.000000    1.000000"
            ],
            "text/html": [
              "\n",
              "  <div id=\"df-4d5fee3f-cf0b-41ca-9ca1-a50a10510b85\">\n",
              "    <div class=\"colab-df-container\">\n",
              "      <div>\n",
              "<style scoped>\n",
              "    .dataframe tbody tr th:only-of-type {\n",
              "        vertical-align: middle;\n",
              "    }\n",
              "\n",
              "    .dataframe tbody tr th {\n",
              "        vertical-align: top;\n",
              "    }\n",
              "\n",
              "    .dataframe thead th {\n",
              "        text-align: right;\n",
              "    }\n",
              "</style>\n",
              "<table border=\"1\" class=\"dataframe\">\n",
              "  <thead>\n",
              "    <tr style=\"text-align: right;\">\n",
              "      <th></th>\n",
              "      <th>TOC (%)</th>\n",
              "      <th>Moisture (%)</th>\n",
              "      <th>Temp (C)</th>\n",
              "      <th>VL</th>\n",
              "      <th>pL</th>\n",
              "    </tr>\n",
              "  </thead>\n",
              "  <tbody>\n",
              "    <tr>\n",
              "      <th>count</th>\n",
              "      <td>118.000000</td>\n",
              "      <td>118.000000</td>\n",
              "      <td>118.000000</td>\n",
              "      <td>118.000000</td>\n",
              "      <td>118.000000</td>\n",
              "    </tr>\n",
              "    <tr>\n",
              "      <th>mean</th>\n",
              "      <td>0.170755</td>\n",
              "      <td>0.184997</td>\n",
              "      <td>0.215749</td>\n",
              "      <td>0.278185</td>\n",
              "      <td>0.190223</td>\n",
              "    </tr>\n",
              "    <tr>\n",
              "      <th>std</th>\n",
              "      <td>0.293617</td>\n",
              "      <td>0.260473</td>\n",
              "      <td>0.142229</td>\n",
              "      <td>0.236235</td>\n",
              "      <td>0.148785</td>\n",
              "    </tr>\n",
              "    <tr>\n",
              "      <th>min</th>\n",
              "      <td>0.000000</td>\n",
              "      <td>0.000000</td>\n",
              "      <td>0.000000</td>\n",
              "      <td>0.000000</td>\n",
              "      <td>0.000000</td>\n",
              "    </tr>\n",
              "    <tr>\n",
              "      <th>25%</th>\n",
              "      <td>0.025724</td>\n",
              "      <td>0.000000</td>\n",
              "      <td>0.066667</td>\n",
              "      <td>0.086416</td>\n",
              "      <td>0.105412</td>\n",
              "    </tr>\n",
              "    <tr>\n",
              "      <th>50%</th>\n",
              "      <td>0.055862</td>\n",
              "      <td>0.000000</td>\n",
              "      <td>0.258333</td>\n",
              "      <td>0.218824</td>\n",
              "      <td>0.146388</td>\n",
              "    </tr>\n",
              "    <tr>\n",
              "      <th>75%</th>\n",
              "      <td>0.084662</td>\n",
              "      <td>0.408719</td>\n",
              "      <td>0.291667</td>\n",
              "      <td>0.382623</td>\n",
              "      <td>0.237732</td>\n",
              "    </tr>\n",
              "    <tr>\n",
              "      <th>max</th>\n",
              "      <td>1.000000</td>\n",
              "      <td>1.000000</td>\n",
              "      <td>1.000000</td>\n",
              "      <td>1.000000</td>\n",
              "      <td>1.000000</td>\n",
              "    </tr>\n",
              "  </tbody>\n",
              "</table>\n",
              "</div>\n",
              "      <button class=\"colab-df-convert\" onclick=\"convertToInteractive('df-4d5fee3f-cf0b-41ca-9ca1-a50a10510b85')\"\n",
              "              title=\"Convert this dataframe to an interactive table.\"\n",
              "              style=\"display:none;\">\n",
              "        \n",
              "  <svg xmlns=\"http://www.w3.org/2000/svg\" height=\"24px\"viewBox=\"0 0 24 24\"\n",
              "       width=\"24px\">\n",
              "    <path d=\"M0 0h24v24H0V0z\" fill=\"none\"/>\n",
              "    <path d=\"M18.56 5.44l.94 2.06.94-2.06 2.06-.94-2.06-.94-.94-2.06-.94 2.06-2.06.94zm-11 1L8.5 8.5l.94-2.06 2.06-.94-2.06-.94L8.5 2.5l-.94 2.06-2.06.94zm10 10l.94 2.06.94-2.06 2.06-.94-2.06-.94-.94-2.06-.94 2.06-2.06.94z\"/><path d=\"M17.41 7.96l-1.37-1.37c-.4-.4-.92-.59-1.43-.59-.52 0-1.04.2-1.43.59L10.3 9.45l-7.72 7.72c-.78.78-.78 2.05 0 2.83L4 21.41c.39.39.9.59 1.41.59.51 0 1.02-.2 1.41-.59l7.78-7.78 2.81-2.81c.8-.78.8-2.07 0-2.86zM5.41 20L4 18.59l7.72-7.72 1.47 1.35L5.41 20z\"/>\n",
              "  </svg>\n",
              "      </button>\n",
              "      \n",
              "  <style>\n",
              "    .colab-df-container {\n",
              "      display:flex;\n",
              "      flex-wrap:wrap;\n",
              "      gap: 12px;\n",
              "    }\n",
              "\n",
              "    .colab-df-convert {\n",
              "      background-color: #E8F0FE;\n",
              "      border: none;\n",
              "      border-radius: 50%;\n",
              "      cursor: pointer;\n",
              "      display: none;\n",
              "      fill: #1967D2;\n",
              "      height: 32px;\n",
              "      padding: 0 0 0 0;\n",
              "      width: 32px;\n",
              "    }\n",
              "\n",
              "    .colab-df-convert:hover {\n",
              "      background-color: #E2EBFA;\n",
              "      box-shadow: 0px 1px 2px rgba(60, 64, 67, 0.3), 0px 1px 3px 1px rgba(60, 64, 67, 0.15);\n",
              "      fill: #174EA6;\n",
              "    }\n",
              "\n",
              "    [theme=dark] .colab-df-convert {\n",
              "      background-color: #3B4455;\n",
              "      fill: #D2E3FC;\n",
              "    }\n",
              "\n",
              "    [theme=dark] .colab-df-convert:hover {\n",
              "      background-color: #434B5C;\n",
              "      box-shadow: 0px 1px 3px 1px rgba(0, 0, 0, 0.15);\n",
              "      filter: drop-shadow(0px 1px 2px rgba(0, 0, 0, 0.3));\n",
              "      fill: #FFFFFF;\n",
              "    }\n",
              "  </style>\n",
              "\n",
              "      <script>\n",
              "        const buttonEl =\n",
              "          document.querySelector('#df-4d5fee3f-cf0b-41ca-9ca1-a50a10510b85 button.colab-df-convert');\n",
              "        buttonEl.style.display =\n",
              "          google.colab.kernel.accessAllowed ? 'block' : 'none';\n",
              "\n",
              "        async function convertToInteractive(key) {\n",
              "          const element = document.querySelector('#df-4d5fee3f-cf0b-41ca-9ca1-a50a10510b85');\n",
              "          const dataTable =\n",
              "            await google.colab.kernel.invokeFunction('convertToInteractive',\n",
              "                                                     [key], {});\n",
              "          if (!dataTable) return;\n",
              "\n",
              "          const docLinkHtml = 'Like what you see? Visit the ' +\n",
              "            '<a target=\"_blank\" href=https://colab.research.google.com/notebooks/data_table.ipynb>data table notebook</a>'\n",
              "            + ' to learn more about interactive tables.';\n",
              "          element.innerHTML = '';\n",
              "          dataTable['output_type'] = 'display_data';\n",
              "          await google.colab.output.renderOutput(dataTable, element);\n",
              "          const docLink = document.createElement('div');\n",
              "          docLink.innerHTML = docLinkHtml;\n",
              "          element.appendChild(docLink);\n",
              "        }\n",
              "      </script>\n",
              "    </div>\n",
              "  </div>\n",
              "  "
            ]
          },
          "metadata": {},
          "execution_count": 22
        }
      ],
      "source": [
        "df.describe()"
      ]
    },
    {
      "cell_type": "code",
      "execution_count": null,
      "metadata": {
        "colab": {
          "base_uri": "https://localhost:8080/",
          "height": 460
        },
        "id": "o34gpQJK4oKG",
        "outputId": "7dc3354d-d6fb-4694-ad39-3173c3fdbd73"
      },
      "outputs": [
        {
          "output_type": "execute_result",
          "data": {
            "text/plain": [
              "<matplotlib.axes._subplots.AxesSubplot at 0x7f8355886ad0>"
            ]
          },
          "metadata": {},
          "execution_count": 23
        },
        {
          "output_type": "display_data",
          "data": {
            "text/plain": [
              "<Figure size 600x400 with 2 Axes>"
            ],
            "image/png": "[encoded data removed]"
          },
          "metadata": {
            "needs_background": "light"
          }
        }
      ],
      "source": [
        "sns.heatmap(df.corr(), cmap=\"pink\", annot=True)"
      ]
    },
    {
      "cell_type": "code",
      "execution_count": null,
      "metadata": {
        "colab": {
          "base_uri": "https://localhost:8080/"
        },
        "id": "XJfmS0HqoY2I",
        "outputId": "a676dc2e-89e1-4bb7-b04c-ee3a86be7936"
      },
      "outputs": [
        {
          "output_type": "execute_result",
          "data": {
            "text/plain": [
              "array(['Shale/Clay', 'Coal'], dtype=object)"
            ]
          },
          "metadata": {},
          "execution_count": 24
        }
      ],
      "source": [
        "df['Rock'].unique()"
      ]
    },
    {
      "cell_type": "code",
      "source": [
        "df['Gas'].unique()"
      ],
      "metadata": {
        "colab": {
          "base_uri": "https://localhost:8080/"
        },
        "id": "VqYR0C8IMBhA",
        "outputId": "ddce5e75-0f8f-4624-e9f0-03500808dca5"
      },
      "execution_count": null,
      "outputs": [
        {
          "output_type": "execute_result",
          "data": {
            "text/plain": [
              "array(['CH4'], dtype=object)"
            ]
          },
          "metadata": {},
          "execution_count": 25
        }
      ]
    },
    {
      "cell_type": "markdown",
      "metadata": {
        "id": "Z1RDLU7Cemvc"
      },
      "source": [
        "### One-hot encoding for the Gas and Rock columns:"
      ]
    },
    {
      "cell_type": "code",
      "execution_count": null,
      "metadata": {
        "id": "yfXp3dVyqiOp"
      },
      "outputs": [],
      "source": [
        "gas_dic = {'CH4': 0, 'CO2': 1}\n",
        "df.Gas = [gas_dic[item] for item in df.Gas]"
      ]
    },
    {
      "cell_type": "code",
      "execution_count": null,
      "metadata": {
        "id": "3R4407xVqZY4"
      },
      "outputs": [],
      "source": [
        "rock_dic = {'Shale/Clay': 0, 'Coal': 1}\n",
        "df.Rock = [rock_dic[item] for item in df.Rock]"
      ]
    },
    {
      "cell_type": "code",
      "execution_count": null,
      "metadata": {
        "id": "2agsMThjgroE"
      },
      "outputs": [],
      "source": [
        "x = df.drop(['VL', 'pL'],axis=1)\n",
        "y = df[['VL', 'pL']]"
      ]
    },
    {
      "cell_type": "markdown",
      "metadata": {
        "id": "U5ZylNmxeLWA"
      },
      "source": [
        "### Because we have only C1 here, I am going to drop the Gas column:"
      ]
    },
    {
      "cell_type": "code",
      "execution_count": null,
      "metadata": {
        "id": "3B8AuMCkixDo"
      },
      "outputs": [],
      "source": [
        "x = x.drop(['Gas'], axis=1)"
      ]
    },
    {
      "cell_type": "code",
      "execution_count": null,
      "metadata": {
        "colab": {
          "base_uri": "https://localhost:8080/",
          "height": 206
        },
        "id": "eMcdY2TsbzK5",
        "outputId": "2454e780-413c-412e-c434-01daf7119ecf"
      },
      "outputs": [
        {
          "output_type": "execute_result",
          "data": {
            "text/plain": [
              "   Rock   TOC (%)  Moisture (%)  Temp (C)\n",
              "0     0  0.003959      0.089918  0.166667\n",
              "1     0  0.000000      0.205722  0.066667\n",
              "2     0  0.035743      0.200272  0.066667\n",
              "3     0  0.003280      0.254768  0.066667\n",
              "4     0  0.007465      0.080381  0.066667"
            ],
            "text/html": [
              "\n",
              "  <div id=\"df-6295e4bc-f3f8-4866-9207-d737e1b476b9\">\n",
              "    <div class=\"colab-df-container\">\n",
              "      <div>\n",
              "<style scoped>\n",
              "    .dataframe tbody tr th:only-of-type {\n",
              "        vertical-align: middle;\n",
              "    }\n",
              "\n",
              "    .dataframe tbody tr th {\n",
              "        vertical-align: top;\n",
              "    }\n",
              "\n",
              "    .dataframe thead th {\n",
              "        text-align: right;\n",
              "    }\n",
              "</style>\n",
              "<table border=\"1\" class=\"dataframe\">\n",
              "  <thead>\n",
              "    <tr style=\"text-align: right;\">\n",
              "      <th></th>\n",
              "      <th>Rock</th>\n",
              "      <th>TOC (%)</th>\n",
              "      <th>Moisture (%)</th>\n",
              "      <th>Temp (C)</th>\n",
              "    </tr>\n",
              "  </thead>\n",
              "  <tbody>\n",
              "    <tr>\n",
              "      <th>0</th>\n",
              "      <td>0</td>\n",
              "      <td>0.003959</td>\n",
              "      <td>0.089918</td>\n",
              "      <td>0.166667</td>\n",
              "    </tr>\n",
              "    <tr>\n",
              "      <th>1</th>\n",
              "      <td>0</td>\n",
              "      <td>0.000000</td>\n",
              "      <td>0.205722</td>\n",
              "      <td>0.066667</td>\n",
              "    </tr>\n",
              "    <tr>\n",
              "      <th>2</th>\n",
              "      <td>0</td>\n",
              "      <td>0.035743</td>\n",
              "      <td>0.200272</td>\n",
              "      <td>0.066667</td>\n",
              "    </tr>\n",
              "    <tr>\n",
              "      <th>3</th>\n",
              "      <td>0</td>\n",
              "      <td>0.003280</td>\n",
              "      <td>0.254768</td>\n",
              "      <td>0.066667</td>\n",
              "    </tr>\n",
              "    <tr>\n",
              "      <th>4</th>\n",
              "      <td>0</td>\n",
              "      <td>0.007465</td>\n",
              "      <td>0.080381</td>\n",
              "      <td>0.066667</td>\n",
              "    </tr>\n",
              "  </tbody>\n",
              "</table>\n",
              "</div>\n",
              "      <button class=\"colab-df-convert\" onclick=\"convertToInteractive('df-6295e4bc-f3f8-4866-9207-d737e1b476b9')\"\n",
              "              title=\"Convert this dataframe to an interactive table.\"\n",
              "              style=\"display:none;\">\n",
              "        \n",
              "  <svg xmlns=\"http://www.w3.org/2000/svg\" height=\"24px\"viewBox=\"0 0 24 24\"\n",
              "       width=\"24px\">\n",
              "    <path d=\"M0 0h24v24H0V0z\" fill=\"none\"/>\n",
              "    <path d=\"M18.56 5.44l.94 2.06.94-2.06 2.06-.94-2.06-.94-.94-2.06-.94 2.06-2.06.94zm-11 1L8.5 8.5l.94-2.06 2.06-.94-2.06-.94L8.5 2.5l-.94 2.06-2.06.94zm10 10l.94 2.06.94-2.06 2.06-.94-2.06-.94-.94-2.06-.94 2.06-2.06.94z\"/><path d=\"M17.41 7.96l-1.37-1.37c-.4-.4-.92-.59-1.43-.59-.52 0-1.04.2-1.43.59L10.3 9.45l-7.72 7.72c-.78.78-.78 2.05 0 2.83L4 21.41c.39.39.9.59 1.41.59.51 0 1.02-.2 1.41-.59l7.78-7.78 2.81-2.81c.8-.78.8-2.07 0-2.86zM5.41 20L4 18.59l7.72-7.72 1.47 1.35L5.41 20z\"/>\n",
              "  </svg>\n",
              "      </button>\n",
              "      \n",
              "  <style>\n",
              "    .colab-df-container {\n",
              "      display:flex;\n",
              "      flex-wrap:wrap;\n",
              "      gap: 12px;\n",
              "    }\n",
              "\n",
              "    .colab-df-convert {\n",
              "      background-color: #E8F0FE;\n",
              "      border: none;\n",
              "      border-radius: 50%;\n",
              "      cursor: pointer;\n",
              "      display: none;\n",
              "      fill: #1967D2;\n",
              "      height: 32px;\n",
              "      padding: 0 0 0 0;\n",
              "      width: 32px;\n",
              "    }\n",
              "\n",
              "    .colab-df-convert:hover {\n",
              "      background-color: #E2EBFA;\n",
              "      box-shadow: 0px 1px 2px rgba(60, 64, 67, 0.3), 0px 1px 3px 1px rgba(60, 64, 67, 0.15);\n",
              "      fill: #174EA6;\n",
              "    }\n",
              "\n",
              "    [theme=dark] .colab-df-convert {\n",
              "      background-color: #3B4455;\n",
              "      fill: #D2E3FC;\n",
              "    }\n",
              "\n",
              "    [theme=dark] .colab-df-convert:hover {\n",
              "      background-color: #434B5C;\n",
              "      box-shadow: 0px 1px 3px 1px rgba(0, 0, 0, 0.15);\n",
              "      filter: drop-shadow(0px 1px 2px rgba(0, 0, 0, 0.3));\n",
              "      fill: #FFFFFF;\n",
              "    }\n",
              "  </style>\n",
              "\n",
              "      <script>\n",
              "        const buttonEl =\n",
              "          document.querySelector('#df-6295e4bc-f3f8-4866-9207-d737e1b476b9 button.colab-df-convert');\n",
              "        buttonEl.style.display =\n",
              "          google.colab.kernel.accessAllowed ? 'block' : 'none';\n",
              "\n",
              "        async function convertToInteractive(key) {\n",
              "          const element = document.querySelector('#df-6295e4bc-f3f8-4866-9207-d737e1b476b9');\n",
              "          const dataTable =\n",
              "            await google.colab.kernel.invokeFunction('convertToInteractive',\n",
              "                                                     [key], {});\n",
              "          if (!dataTable) return;\n",
              "\n",
              "          const docLinkHtml = 'Like what you see? Visit the ' +\n",
              "            '<a target=\"_blank\" href=https://colab.research.google.com/notebooks/data_table.ipynb>data table notebook</a>'\n",
              "            + ' to learn more about interactive tables.';\n",
              "          element.innerHTML = '';\n",
              "          dataTable['output_type'] = 'display_data';\n",
              "          await google.colab.output.renderOutput(dataTable, element);\n",
              "          const docLink = document.createElement('div');\n",
              "          docLink.innerHTML = docLinkHtml;\n",
              "          element.appendChild(docLink);\n",
              "        }\n",
              "      </script>\n",
              "    </div>\n",
              "  </div>\n",
              "  "
            ]
          },
          "metadata": {},
          "execution_count": 30
        }
      ],
      "source": [
        "x.head()"
      ]
    },
    {
      "cell_type": "code",
      "execution_count": null,
      "metadata": {
        "colab": {
          "base_uri": "https://localhost:8080/"
        },
        "id": "qNE9br-CgyLh",
        "outputId": "afd7e09f-9db1-4f45-9da7-c1b7f3338774"
      },
      "outputs": [
        {
          "output_type": "execute_result",
          "data": {
            "text/plain": [
              "array([0, 1])"
            ]
          },
          "metadata": {},
          "execution_count": 31
        }
      ],
      "source": [
        "x['Rock'].unique()"
      ]
    },
    {
      "cell_type": "code",
      "execution_count": null,
      "metadata": {
        "id": "qb56zwJswiqq"
      },
      "outputs": [],
      "source": [
        "RAND_STAT = 200"
      ]
    },
    {
      "cell_type": "code",
      "execution_count": null,
      "metadata": {
        "colab": {
          "base_uri": "https://localhost:8080/"
        },
        "id": "ugtCRL-QwSzz",
        "outputId": "50bf2078-9b99-4720-b268-ada7f090b8b7"
      },
      "outputs": [
        {
          "output_type": "stream",
          "name": "stdout",
          "text": [
            "Shape of x_train: (100, 4)\n",
            "Shape of x_val: (12, 4)\n",
            "Shape of x_test: (6, 4)\n",
            "Shape of y_train: (100, 2)\n",
            "Shape of y_val: (12, 2)\n",
            "Shape of y_test: (6, 2)\n"
          ]
        }
      ],
      "source": [
        "#Create train and test dataset with an 80:20 split\n",
        "x_train, x_test, y_train, y_test = train_test_split(x, y, test_size=0.05, random_state=RAND_STAT)\n",
        "#Further divide training dataset into train and validation dataset with an 90:10 split\n",
        "x_train, x_val, y_train, y_val = train_test_split(x_train,y_train,test_size=0.1,random_state=RAND_STAT)\n",
        "#Check the sizes of all newly created datasets\n",
        "print(\"Shape of x_train:\",x_train.shape)\n",
        "print(\"Shape of x_val:\",x_val.shape)\n",
        "print(\"Shape of x_test:\",x_test.shape)\n",
        "print(\"Shape of y_train:\",y_train.shape)\n",
        "print(\"Shape of y_val:\",y_val.shape)\n",
        "print(\"Shape of y_test:\",y_test.shape)"
      ]
    },
    {
      "cell_type": "code",
      "execution_count": null,
      "metadata": {
        "id": "JiUvofKDwwp3"
      },
      "outputs": [],
      "source": [
        "x_train=np.asarray(x_train).astype(np.float32)\n",
        "y_train=np.asarray(y_train).astype(np.float32)\n",
        "x_val=np.asarray(x_val).astype(np.float32)\n",
        "y_val=np.asarray(y_val).astype(np.float32)"
      ]
    },
    {
      "cell_type": "code",
      "execution_count": null,
      "metadata": {
        "colab": {
          "base_uri": "https://localhost:8080/"
        },
        "id": "xrQb4Kg9wEXZ",
        "outputId": "34818eb1-b59c-4243-f197-38fd1d6d81c8"
      },
      "outputs": [
        {
          "output_type": "stream",
          "name": "stdout",
          "text": [
            "Epoch 1/80\n",
            "13/13 [==============================] - 1s 31ms/step - loss: 0.1907 - accuracy: 0.4500 - val_loss: 0.1504 - val_accuracy: 0.6667\n",
            "Epoch 2/80\n",
            "13/13 [==============================] - 0s 9ms/step - loss: 0.1498 - accuracy: 0.4900 - val_loss: 0.1166 - val_accuracy: 0.7500\n",
            "Epoch 3/80\n",
            "13/13 [==============================] - 0s 10ms/step - loss: 0.1593 - accuracy: 0.5400 - val_loss: 0.1606 - val_accuracy: 0.1667\n",
            "Epoch 4/80\n",
            "13/13 [==============================] - 0s 9ms/step - loss: 0.1530 - accuracy: 0.5800 - val_loss: 0.1447 - val_accuracy: 0.7500\n",
            "Epoch 5/80\n",
            "13/13 [==============================] - 0s 8ms/step - loss: 0.1489 - accuracy: 0.5800 - val_loss: 0.1423 - val_accuracy: 0.6667\n",
            "Epoch 6/80\n",
            "13/13 [==============================] - 0s 10ms/step - loss: 0.1462 - accuracy: 0.6100 - val_loss: 0.1444 - val_accuracy: 0.7500\n",
            "Epoch 7/80\n",
            "13/13 [==============================] - 0s 9ms/step - loss: 0.1470 - accuracy: 0.6000 - val_loss: 0.1244 - val_accuracy: 0.6667\n",
            "Epoch 8/80\n",
            "13/13 [==============================] - 0s 9ms/step - loss: 0.1359 - accuracy: 0.6400 - val_loss: 0.1283 - val_accuracy: 0.6667\n",
            "Epoch 9/80\n",
            "13/13 [==============================] - 0s 12ms/step - loss: 0.1405 - accuracy: 0.6000 - val_loss: 0.1396 - val_accuracy: 0.7500\n",
            "Epoch 10/80\n",
            "13/13 [==============================] - 0s 20ms/step - loss: 0.1350 - accuracy: 0.6300 - val_loss: 0.1391 - val_accuracy: 0.6667\n",
            "Epoch 11/80\n",
            "13/13 [==============================] - 0s 26ms/step - loss: 0.1390 - accuracy: 0.6400 - val_loss: 0.1278 - val_accuracy: 0.7500\n",
            "Epoch 12/80\n",
            "13/13 [==============================] - 0s 24ms/step - loss: 0.1309 - accuracy: 0.5700 - val_loss: 0.1272 - val_accuracy: 0.7500\n",
            "Epoch 13/80\n",
            "13/13 [==============================] - 0s 14ms/step - loss: 0.1260 - accuracy: 0.6600 - val_loss: 0.1283 - val_accuracy: 0.6667\n",
            "Epoch 14/80\n",
            "13/13 [==============================] - 0s 16ms/step - loss: 0.1356 - accuracy: 0.6300 - val_loss: 0.1338 - val_accuracy: 0.7500\n",
            "Epoch 15/80\n",
            "13/13 [==============================] - 0s 11ms/step - loss: 0.1296 - accuracy: 0.6300 - val_loss: 0.1218 - val_accuracy: 0.7500\n",
            "Epoch 16/80\n",
            "13/13 [==============================] - 0s 10ms/step - loss: 0.1302 - accuracy: 0.6300 - val_loss: 0.1449 - val_accuracy: 0.5833\n",
            "Epoch 17/80\n",
            "13/13 [==============================] - 0s 12ms/step - loss: 0.1279 - accuracy: 0.6000 - val_loss: 0.1254 - val_accuracy: 0.6667\n",
            "Epoch 18/80\n",
            "13/13 [==============================] - 0s 10ms/step - loss: 0.1382 - accuracy: 0.6500 - val_loss: 0.1407 - val_accuracy: 0.7500\n",
            "Epoch 19/80\n",
            "13/13 [==============================] - 0s 10ms/step - loss: 0.1238 - accuracy: 0.6700 - val_loss: 0.1228 - val_accuracy: 0.5833\n",
            "Epoch 20/80\n",
            "13/13 [==============================] - 0s 10ms/step - loss: 0.1212 - accuracy: 0.6700 - val_loss: 0.1199 - val_accuracy: 0.6667\n",
            "Epoch 21/80\n",
            "13/13 [==============================] - 0s 9ms/step - loss: 0.1343 - accuracy: 0.6200 - val_loss: 0.1344 - val_accuracy: 0.5000\n",
            "Epoch 22/80\n",
            "13/13 [==============================] - 0s 8ms/step - loss: 0.1234 - accuracy: 0.6700 - val_loss: 0.1190 - val_accuracy: 0.7500\n",
            "Epoch 23/80\n",
            "13/13 [==============================] - 0s 9ms/step - loss: 0.1253 - accuracy: 0.7000 - val_loss: 0.1267 - val_accuracy: 0.7500\n",
            "Epoch 24/80\n",
            "13/13 [==============================] - 0s 9ms/step - loss: 0.1247 - accuracy: 0.7400 - val_loss: 0.1172 - val_accuracy: 0.7500\n",
            "Epoch 25/80\n",
            "13/13 [==============================] - 0s 11ms/step - loss: 0.1182 - accuracy: 0.6800 - val_loss: 0.1280 - val_accuracy: 0.5833\n",
            "Epoch 26/80\n",
            "13/13 [==============================] - 0s 7ms/step - loss: 0.1207 - accuracy: 0.6800 - val_loss: 0.1319 - val_accuracy: 0.5833\n",
            "Epoch 27/80\n",
            "13/13 [==============================] - 0s 9ms/step - loss: 0.1266 - accuracy: 0.6300 - val_loss: 0.1354 - val_accuracy: 0.7500\n",
            "Epoch 28/80\n",
            "13/13 [==============================] - 0s 8ms/step - loss: 0.1239 - accuracy: 0.6200 - val_loss: 0.1128 - val_accuracy: 0.7500\n",
            "Epoch 29/80\n",
            "13/13 [==============================] - 0s 8ms/step - loss: 0.1273 - accuracy: 0.6600 - val_loss: 0.1260 - val_accuracy: 0.7500\n",
            "Epoch 30/80\n",
            "13/13 [==============================] - 0s 9ms/step - loss: 0.1181 - accuracy: 0.6600 - val_loss: 0.1214 - val_accuracy: 0.5833\n",
            "Epoch 31/80\n",
            "13/13 [==============================] - 0s 10ms/step - loss: 0.1218 - accuracy: 0.7100 - val_loss: 0.1232 - val_accuracy: 0.7500\n",
            "Epoch 32/80\n",
            "13/13 [==============================] - 0s 8ms/step - loss: 0.1214 - accuracy: 0.6700 - val_loss: 0.1195 - val_accuracy: 0.5833\n",
            "Epoch 33/80\n",
            "13/13 [==============================] - 0s 10ms/step - loss: 0.1239 - accuracy: 0.6600 - val_loss: 0.1234 - val_accuracy: 0.7500\n",
            "Epoch 34/80\n",
            "13/13 [==============================] - 0s 9ms/step - loss: 0.1249 - accuracy: 0.6200 - val_loss: 0.1188 - val_accuracy: 0.6667\n",
            "Epoch 35/80\n",
            "13/13 [==============================] - 0s 9ms/step - loss: 0.1197 - accuracy: 0.6900 - val_loss: 0.1131 - val_accuracy: 0.7500\n",
            "Epoch 36/80\n",
            "13/13 [==============================] - 0s 9ms/step - loss: 0.1246 - accuracy: 0.6700 - val_loss: 0.1195 - val_accuracy: 0.7500\n",
            "Epoch 37/80\n",
            "13/13 [==============================] - 0s 9ms/step - loss: 0.1272 - accuracy: 0.6700 - val_loss: 0.1361 - val_accuracy: 0.5000\n",
            "Epoch 38/80\n",
            "13/13 [==============================] - 0s 9ms/step - loss: 0.1221 - accuracy: 0.6700 - val_loss: 0.1361 - val_accuracy: 0.5833\n",
            "Epoch 39/80\n",
            "13/13 [==============================] - 0s 9ms/step - loss: 0.1212 - accuracy: 0.7100 - val_loss: 0.1159 - val_accuracy: 0.6667\n",
            "Epoch 40/80\n",
            "13/13 [==============================] - 0s 9ms/step - loss: 0.1171 - accuracy: 0.6900 - val_loss: 0.1337 - val_accuracy: 0.5000\n",
            "Epoch 41/80\n",
            "13/13 [==============================] - 0s 8ms/step - loss: 0.1245 - accuracy: 0.6800 - val_loss: 0.1194 - val_accuracy: 0.7500\n",
            "Epoch 42/80\n",
            "13/13 [==============================] - 0s 11ms/step - loss: 0.1171 - accuracy: 0.6900 - val_loss: 0.1162 - val_accuracy: 0.7500\n",
            "Epoch 43/80\n",
            "13/13 [==============================] - 0s 8ms/step - loss: 0.1220 - accuracy: 0.6600 - val_loss: 0.1192 - val_accuracy: 0.7500\n",
            "Epoch 44/80\n",
            "13/13 [==============================] - 0s 9ms/step - loss: 0.1267 - accuracy: 0.6300 - val_loss: 0.1220 - val_accuracy: 0.7500\n",
            "Epoch 45/80\n",
            "13/13 [==============================] - 0s 9ms/step - loss: 0.1262 - accuracy: 0.6500 - val_loss: 0.1286 - val_accuracy: 0.5000\n",
            "Epoch 46/80\n",
            "13/13 [==============================] - 0s 8ms/step - loss: 0.1269 - accuracy: 0.7000 - val_loss: 0.1226 - val_accuracy: 0.7500\n",
            "Epoch 47/80\n",
            "13/13 [==============================] - 0s 5ms/step - loss: 0.1223 - accuracy: 0.6700 - val_loss: 0.1176 - val_accuracy: 0.7500\n",
            "Epoch 48/80\n",
            "13/13 [==============================] - 0s 5ms/step - loss: 0.1229 - accuracy: 0.6900 - val_loss: 0.1334 - val_accuracy: 0.5833\n",
            "Epoch 49/80\n",
            "13/13 [==============================] - 0s 5ms/step - loss: 0.1172 - accuracy: 0.6900 - val_loss: 0.1153 - val_accuracy: 0.7500\n",
            "Epoch 50/80\n",
            "13/13 [==============================] - 0s 5ms/step - loss: 0.1176 - accuracy: 0.7200 - val_loss: 0.1287 - val_accuracy: 0.5833\n",
            "Epoch 51/80\n",
            "13/13 [==============================] - 0s 5ms/step - loss: 0.1194 - accuracy: 0.6600 - val_loss: 0.1231 - val_accuracy: 0.7500\n",
            "Epoch 52/80\n",
            "13/13 [==============================] - 0s 5ms/step - loss: 0.1210 - accuracy: 0.7500 - val_loss: 0.1191 - val_accuracy: 0.7500\n",
            "Epoch 53/80\n",
            "13/13 [==============================] - 0s 7ms/step - loss: 0.1208 - accuracy: 0.6900 - val_loss: 0.1117 - val_accuracy: 0.7500\n",
            "Epoch 54/80\n",
            "13/13 [==============================] - 0s 5ms/step - loss: 0.1220 - accuracy: 0.7200 - val_loss: 0.1248 - val_accuracy: 0.5833\n",
            "Epoch 55/80\n",
            "13/13 [==============================] - 0s 5ms/step - loss: 0.1236 - accuracy: 0.7300 - val_loss: 0.1206 - val_accuracy: 0.7500\n",
            "Epoch 56/80\n",
            "13/13 [==============================] - 0s 5ms/step - loss: 0.1206 - accuracy: 0.6800 - val_loss: 0.1244 - val_accuracy: 0.5833\n",
            "Epoch 57/80\n",
            "13/13 [==============================] - 0s 6ms/step - loss: 0.1181 - accuracy: 0.7200 - val_loss: 0.1200 - val_accuracy: 0.7500\n",
            "Epoch 58/80\n",
            "13/13 [==============================] - 0s 6ms/step - loss: 0.1171 - accuracy: 0.7200 - val_loss: 0.1136 - val_accuracy: 0.7500\n",
            "Epoch 59/80\n",
            "13/13 [==============================] - 0s 5ms/step - loss: 0.1191 - accuracy: 0.7500 - val_loss: 0.1308 - val_accuracy: 0.5833\n",
            "Epoch 60/80\n",
            "13/13 [==============================] - 0s 5ms/step - loss: 0.1247 - accuracy: 0.6800 - val_loss: 0.1228 - val_accuracy: 0.6667\n",
            "Epoch 61/80\n",
            "13/13 [==============================] - 0s 7ms/step - loss: 0.1210 - accuracy: 0.7100 - val_loss: 0.1206 - val_accuracy: 0.7500\n",
            "Epoch 62/80\n",
            "13/13 [==============================] - 0s 5ms/step - loss: 0.1156 - accuracy: 0.7200 - val_loss: 0.1275 - val_accuracy: 0.5833\n",
            "Epoch 63/80\n",
            "13/13 [==============================] - 0s 5ms/step - loss: 0.1136 - accuracy: 0.6800 - val_loss: 0.1181 - val_accuracy: 0.7500\n",
            "Epoch 64/80\n",
            "13/13 [==============================] - 0s 6ms/step - loss: 0.1198 - accuracy: 0.6900 - val_loss: 0.1194 - val_accuracy: 0.7500\n",
            "Epoch 65/80\n",
            "13/13 [==============================] - 0s 5ms/step - loss: 0.1141 - accuracy: 0.7000 - val_loss: 0.1244 - val_accuracy: 0.5833\n",
            "Epoch 66/80\n",
            "13/13 [==============================] - 0s 5ms/step - loss: 0.1244 - accuracy: 0.6500 - val_loss: 0.1218 - val_accuracy: 0.6667\n",
            "Epoch 67/80\n",
            "13/13 [==============================] - 0s 6ms/step - loss: 0.1229 - accuracy: 0.7000 - val_loss: 0.1277 - val_accuracy: 0.7500\n",
            "Epoch 68/80\n",
            "13/13 [==============================] - 0s 6ms/step - loss: 0.1166 - accuracy: 0.7100 - val_loss: 0.1222 - val_accuracy: 0.6667\n",
            "Epoch 69/80\n",
            "13/13 [==============================] - 0s 5ms/step - loss: 0.1210 - accuracy: 0.6900 - val_loss: 0.1290 - val_accuracy: 0.7500\n",
            "Epoch 70/80\n",
            "13/13 [==============================] - 0s 7ms/step - loss: 0.1189 - accuracy: 0.7200 - val_loss: 0.1199 - val_accuracy: 0.7500\n",
            "Epoch 71/80\n",
            "13/13 [==============================] - 0s 5ms/step - loss: 0.1170 - accuracy: 0.7200 - val_loss: 0.1353 - val_accuracy: 0.5833\n",
            "Epoch 72/80\n",
            "13/13 [==============================] - 0s 5ms/step - loss: 0.1167 - accuracy: 0.7300 - val_loss: 0.1095 - val_accuracy: 0.7500\n",
            "Epoch 73/80\n",
            "13/13 [==============================] - 0s 6ms/step - loss: 0.1163 - accuracy: 0.7500 - val_loss: 0.1300 - val_accuracy: 0.7500\n",
            "Epoch 74/80\n",
            "13/13 [==============================] - 0s 5ms/step - loss: 0.1187 - accuracy: 0.7200 - val_loss: 0.1182 - val_accuracy: 0.7500\n",
            "Epoch 75/80\n",
            "13/13 [==============================] - 0s 5ms/step - loss: 0.1196 - accuracy: 0.7100 - val_loss: 0.1383 - val_accuracy: 0.5833\n",
            "Epoch 76/80\n",
            "13/13 [==============================] - 0s 5ms/step - loss: 0.1232 - accuracy: 0.6700 - val_loss: 0.1219 - val_accuracy: 0.6667\n",
            "Epoch 77/80\n",
            "13/13 [==============================] - 0s 7ms/step - loss: 0.1201 - accuracy: 0.7500 - val_loss: 0.1210 - val_accuracy: 0.5833\n",
            "Epoch 78/80\n",
            "13/13 [==============================] - 0s 5ms/step - loss: 0.1166 - accuracy: 0.7300 - val_loss: 0.1156 - val_accuracy: 0.7500\n",
            "Epoch 79/80\n",
            "13/13 [==============================] - 0s 5ms/step - loss: 0.1199 - accuracy: 0.7300 - val_loss: 0.1193 - val_accuracy: 0.7500\n",
            "Epoch 80/80\n",
            "13/13 [==============================] - 0s 6ms/step - loss: 0.1235 - accuracy: 0.7300 - val_loss: 0.1224 - val_accuracy: 0.5000\n"
          ]
        },
        {
          "output_type": "execute_result",
          "data": {
            "text/plain": [
              "<keras.callbacks.History at 0x7f83493ef550>"
            ]
          },
          "metadata": {},
          "execution_count": 43
        }
      ],
      "source": [
        "history = History()\n",
        "#Defining Functional model\n",
        "input_layer = Input(shape=(4,))\n",
        "Layer_1 = Dense(100,activation=\"relu\")(input_layer)\n",
        "Layer_2 = Dense(80,activation=\"relu\")(Layer_1)\n",
        "output_layer = Dense(2,activation=\"tanh\")(Layer_2)\n",
        "model = Model(inputs=input_layer, outputs=output_layer)\n",
        "#Configure the model\n",
        "keras.optimizers.Adam(lr=1e-3, beta_1=0.9, beta_2=0.999, epsilon=None, decay=1e-3, amsgrad=True)\n",
        "model.compile(optimizer='adam', loss=\"mean_absolute_error\", metrics=[\"accuracy\"])\n",
        "#Train the model\n",
        "model.fit(x_train,y_train, validation_data=(x_val,y_val),epochs=80,batch_size=8,callbacks=[history])"
      ]
    },
    {
      "cell_type": "code",
      "execution_count": null,
      "metadata": {
        "id": "7TU2gSFx44do"
      },
      "outputs": [],
      "source": [
        "x_test=np.asarray(x_test).astype(np.float32)\n",
        "y_test=np.asarray(y_test).astype(np.float32)"
      ]
    },
    {
      "cell_type": "code",
      "execution_count": null,
      "metadata": {
        "colab": {
          "base_uri": "https://localhost:8080/"
        },
        "id": "4Sdo5mB60qx0",
        "outputId": "9e70a034-624a-4aa6-876f-4543814ebe4c"
      },
      "outputs": [
        {
          "output_type": "stream",
          "name": "stdout",
          "text": [
            "1/1 [==============================] - 0s 25ms/step - loss: 0.0869 - accuracy: 0.5000\n",
            "Metric  loss : 0.09\n",
            "Metric  accuracy : 0.5\n"
          ]
        }
      ],
      "source": [
        "result = model.evaluate(x_test,y_test)\n",
        "for i in range(len(model.metrics_names)):\n",
        "    print(\"Metric \",model.metrics_names[i],\":\",str(round(result[i],2)))"
      ]
    },
    {
      "cell_type": "code",
      "execution_count": null,
      "metadata": {
        "colab": {
          "base_uri": "https://localhost:8080/",
          "height": 404
        },
        "id": "b0J8NKIP4rhs",
        "outputId": "25cdbf5a-c300-4537-cf03-6d9fef9eca84"
      },
      "outputs": [
        {
          "output_type": "display_data",
          "data": {
            "text/plain": [
              "<Figure size 600x400 with 1 Axes>"
            ],
            "image/png": "[encoded data removed]"
          },
          "metadata": {
            "needs_background": "light"
          }
        }
      ],
      "source": [
        "plt.plot(history.history['loss'])\n",
        "plt.plot(history.history['val_loss'])\n",
        "plt.title(\"Model's Training & Validation loss across epochs\")\n",
        "plt.ylabel('Loss')\n",
        "plt.xlabel('Epochs')\n",
        "plt.legend(['Train', 'Validation'], loc='upper right')\n",
        "plt.show()"
      ]
    },
    {
      "cell_type": "code",
      "execution_count": null,
      "metadata": {
        "id": "FHsl6ZcTzl4G"
      },
      "outputs": [],
      "source": [
        "y_val_pred = model.predict(x_val)\n",
        "y_test_pred = model.predict(x_test)"
      ]
    },
    {
      "cell_type": "code",
      "source": [
        "predicted = model.predict(df.drop(['Gas', 'VL', 'pL'], axis=1).to_numpy())"
      ],
      "metadata": {
        "id": "tv3VL6aT3N4a"
      },
      "execution_count": null,
      "outputs": []
    },
    {
      "cell_type": "code",
      "source": [
        "expected = df.drop(['Gas', 'Rock', 'TOC (%)', 'Moisture (%)', 'Temp (C)'], axis=1).to_numpy()"
      ],
      "metadata": {
        "id": "dMwN4Cbx4P2G"
      },
      "execution_count": null,
      "outputs": []
    },
    {
      "cell_type": "code",
      "execution_count": null,
      "metadata": {
        "id": "eXhMKdWY52EW"
      },
      "outputs": [],
      "source": [
        "def linear_model_results(axes_num, y_actual, y_prediction, title):\n",
        "    linear_model = LinearRegression().fit(y_actual.reshape(-1, 1), y_prediction.reshape(-1, 1))\n",
        "    r_sq = linear_model.score(y_actual.reshape(-1, 1), y_prediction.reshape(-1, 1))\n",
        "    print('coefficient of determination:', r_sq)\n",
        "    print('coef_:', linear_model.coef_)\n",
        "    print('intercept:', linear_model.intercept_)\n",
        "    \n",
        "    axes[axes_num].plot(y_actual,  linear_model.coef_[0][0] * y_actual + linear_model.intercept_[0],\n",
        "                linestyle='--', color = 'darkblue')  \n",
        "    axes[axes_num].scatter(y_actual, y_prediction,\n",
        "                            linewidths=2, edgecolor='black', color = 'lightblue') \n",
        "    axes[axes_num].set_xlabel('Actual')\n",
        "    axes[axes_num].set_ylabel(title)"
      ]
    },
    {
      "cell_type": "code",
      "execution_count": null,
      "metadata": {
        "colab": {
          "base_uri": "https://localhost:8080/",
          "height": 425
        },
        "id": "5lp1DlYdRj3A",
        "outputId": "68789388-8164-478e-fde1-27c415b5e767"
      },
      "outputs": [
        {
          "output_type": "stream",
          "name": "stdout",
          "text": [
            "coefficient of determination: 0.43598652398141047\n",
            "coef_: [[0.7208324]]\n",
            "intercept: [0.04296064]\n"
          ]
        },
        {
          "output_type": "display_data",
          "data": {
            "text/plain": [
              "<Figure size 1200x400 with 3 Axes>"
            ],
            "image/png": "[encoded data removed]"
          },
          "metadata": {
            "needs_background": "light"
          }
        }
      ],
      "source": [
        "#ACTUAL vs PREDICTED for ANN\n",
        "\n",
        "fig, axes = plt.subplots(1, 3, figsize=(12,4))\n",
        "fig.tight_layout(pad=3.0)\n",
        "\n",
        "linear_model_results(0, y_test[:,0], y_test_pred[:,0], 'VL')"
      ]
    },
    {
      "cell_type": "code",
      "execution_count": null,
      "metadata": {
        "colab": {
          "base_uri": "https://localhost:8080/",
          "height": 425
        },
        "id": "a1fgzOZI781G",
        "outputId": "cb932039-19ba-42ac-cb61-2dc168fafa84"
      },
      "outputs": [
        {
          "output_type": "stream",
          "name": "stdout",
          "text": [
            "coefficient of determination: 0.1898765107975655\n",
            "coef_: [[0.26209098]]\n",
            "intercept: [0.15638357]\n"
          ]
        },
        {
          "output_type": "display_data",
          "data": {
            "text/plain": [
              "<Figure size 1200x400 with 3 Axes>"
            ],
            "image/png": "[encoded data removed]"
          },
          "metadata": {
            "needs_background": "light"
          }
        }
      ],
      "source": [
        "#ACTUAL vs PREDICTED for ANN\n",
        "\n",
        "fig, axes = plt.subplots(1, 3, figsize=(12,4))\n",
        "fig.tight_layout(pad=3.0)\n",
        "\n",
        "linear_model_results(0, y_test[:,1], y_test_pred[:,1], 'pL')"
      ]
    },
    {
      "cell_type": "code",
      "source": [
        "#ACTUAL vs PREDICTED for ANN\n",
        "\n",
        "fig, axes = plt.subplots(1, 3, figsize=(12,4))\n",
        "fig.tight_layout(pad=3.0)\n",
        "\n",
        "linear_model_results(0, predicted[:,0], expected[:,0], 'VL')"
      ],
      "metadata": {
        "colab": {
          "base_uri": "https://localhost:8080/",
          "height": 425
        },
        "id": "pH6gJuZ6wgBi",
        "outputId": "1a8e92f2-e2ff-4d08-c44b-1513446aedda"
      },
      "execution_count": null,
      "outputs": [
        {
          "output_type": "stream",
          "name": "stdout",
          "text": [
            "coefficient of determination: 0.23726478567739762\n",
            "coef_: [[0.918063]]\n",
            "intercept: [0.08940196]\n"
          ]
        },
        {
          "output_type": "display_data",
          "data": {
            "text/plain": [
              "<Figure size 1200x400 with 3 Axes>"
            ],
            "image/png": "[encoded data removed]"
          },
          "metadata": {
            "needs_background": "light"
          }
        }
      ]
    },
    {
      "cell_type": "code",
      "source": [
        "#ACTUAL vs PREDICTED for ANN\n",
        "\n",
        "fig, axes = plt.subplots(1, 3, figsize=(12,4))\n",
        "fig.tight_layout(pad=3.0)\n",
        "\n",
        "linear_model_results(0, predicted[:,1], expected[:,1], 'pL')"
      ],
      "metadata": {
        "colab": {
          "base_uri": "https://localhost:8080/",
          "height": 425
        },
        "id": "zKBKRwBewyfy",
        "outputId": "9559dd44-f78b-4f1e-d312-180fdac19d2b"
      },
      "execution_count": null,
      "outputs": [
        {
          "output_type": "stream",
          "name": "stdout",
          "text": [
            "coefficient of determination: 0.12682324409272794\n",
            "coef_: [[0.9516649]]\n",
            "intercept: [-0.00485654]\n"
          ]
        },
        {
          "output_type": "display_data",
          "data": {
            "text/plain": [
              "<Figure size 1200x400 with 3 Axes>"
            ],
            "image/png": "[encoded data removed]"
          },
          "metadata": {
            "needs_background": "light"
          }
        }
      ]
    },
    {
      "cell_type": "code",
      "source": [
        "pd.DataFrame(predicted, columns=['VL', 'pL'])"
      ],
      "metadata": {
        "id": "BpugLNvjwuea"
      },
      "execution_count": null,
      "outputs": []
    },
    {
      "cell_type": "code",
      "source": [
        "df"
      ],
      "metadata": {
        "id": "SjFKjE2JCf5-"
      },
      "execution_count": null,
      "outputs": []
    },
    {
      "cell_type": "code",
      "execution_count": null,
      "metadata": {
        "id": "qMIFnHGt9kkg"
      },
      "outputs": [],
      "source": [
        "x_test = pd.DataFrame(x_test)\n",
        "y_test = pd.DataFrame(y_test)\n",
        "y_test_pred = pd.DataFrame(y_test_pred)"
      ]
    },
    {
      "cell_type": "code",
      "execution_count": null,
      "metadata": {
        "id": "11doCopa-gTq"
      },
      "outputs": [],
      "source": [
        "x_test.head()"
      ]
    },
    {
      "cell_type": "code",
      "execution_count": null,
      "metadata": {
        "id": "2jq-APhj-mWJ"
      },
      "outputs": [],
      "source": [
        "y_test.head()"
      ]
    },
    {
      "cell_type": "code",
      "execution_count": null,
      "metadata": {
        "id": "h90qbMMw97qx"
      },
      "outputs": [],
      "source": [
        "x_test = x_test.rename(columns={0: 'Rock', 1: 'TOC (%)', 2: 'Moisture (%)', 3: 'Temp (C)'})\n",
        "y_test = y_test.rename(columns={0: 'VL', 1: 'pL'})\n",
        "y_test_pred = y_test_pred.rename(columns={0: 'VL', 1: 'pL'})"
      ]
    },
    {
      "cell_type": "code",
      "execution_count": null,
      "metadata": {
        "id": "hr_EBzFe_bfU"
      },
      "outputs": [],
      "source": [
        "rock_dic = {0: 'Shale/Clay', 1: 'Coal'}\n",
        "x_test.Rock = [rock_dic[item] for item in x_test.Rock]"
      ]
    },
    {
      "cell_type": "code",
      "execution_count": null,
      "metadata": {
        "id": "VTqGxC4TASaG"
      },
      "outputs": [],
      "source": [
        "cols = ['TOC (%)', 'Moisture (%)', 'Temp (C)']\n",
        "for col in cols:\n",
        "  norm = MinMaxScaler().fit(df_backup[[col]])\n",
        "  x_test[[col]] = norm.inverse_transform(x_test[[col]])"
      ]
    },
    {
      "cell_type": "code",
      "execution_count": null,
      "metadata": {
        "id": "tfvBVipaAKdE"
      },
      "outputs": [],
      "source": [
        "cols = ['VL', 'pL']\n",
        "for col in cols:\n",
        "  norm = MinMaxScaler().fit(df_backup[[col]])\n",
        "  y_test[[col]] = norm.inverse_transform(y_test[[col]])\n",
        "  y_test_pred[[col]] = norm.inverse_transform(y_test_pred[[col]])"
      ]
    },
    {
      "cell_type": "code",
      "execution_count": null,
      "metadata": {
        "id": "-SszXuGkCglu"
      },
      "outputs": [],
      "source": [
        "x_test"
      ]
    },
    {
      "cell_type": "code",
      "execution_count": null,
      "metadata": {
        "id": "td887hR4ChyE"
      },
      "outputs": [],
      "source": [
        "y_test"
      ]
    },
    {
      "cell_type": "code",
      "execution_count": null,
      "metadata": {
        "id": "ivNBf6tC44VP"
      },
      "outputs": [],
      "source": [
        "y_test_pred"
      ]
    }
  ],
  "metadata": {
    "colab": {
      "collapsed_sections": [],
      "name": "Mohsen_LessNN_Langmuir_allC1_Functionalkeras.ipynb",
      "provenance": [],
      "include_colab_link": true
    },
    "kernelspec": {
      "display_name": "Python 3",
      "language": "python",
      "name": "python3"
    },
    "language_info": {
      "codemirror_mode": {
        "name": "ipython",
        "version": 3
      },
      "file_extension": ".py",
      "mimetype": "text/x-python",
      "name": "python",
      "nbconvert_exporter": "python",
      "pygments_lexer": "ipython3",
      "version": "3.8.8"
    }
  },
  "nbformat": 4,
  "nbformat_minor": 0
}